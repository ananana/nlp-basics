{
 "cells": [
  {
   "cell_type": "code",
   "execution_count": 1,
   "metadata": {},
   "outputs": [],
   "source": [
    "from nltk.corpus import wordnet as wn"
   ]
  },
  {
   "cell_type": "markdown",
   "metadata": {},
   "source": [
    "### Synsets"
   ]
  },
  {
   "cell_type": "code",
   "execution_count": 47,
   "metadata": {},
   "outputs": [
    {
     "data": {
      "text/plain": [
       "[Synset('child.n.01'),\n",
       " Synset('kid.n.02'),\n",
       " Synset('kyd.n.01'),\n",
       " Synset('child.n.02'),\n",
       " Synset('kid.n.05'),\n",
       " Synset('pull_the_leg_of.v.01'),\n",
       " Synset('kid.v.02')]"
      ]
     },
     "execution_count": 47,
     "metadata": {},
     "output_type": "execute_result"
    }
   ],
   "source": [
    "kid_synsets = wn.synsets('kid')\n",
    "kid_synsets"
   ]
  },
  {
   "cell_type": "markdown",
   "metadata": {},
   "source": [
    "Parts of speech"
   ]
  },
  {
   "cell_type": "code",
   "execution_count": 49,
   "metadata": {},
   "outputs": [
    {
     "data": {
      "text/plain": [
       "['n', 'n', 'n', 'n', 'n', 'v', 'v']"
      ]
     },
     "execution_count": 49,
     "metadata": {},
     "output_type": "execute_result"
    }
   ],
   "source": [
    "[s.pos() for s in kid_synsets]"
   ]
  },
  {
   "cell_type": "markdown",
   "metadata": {},
   "source": [
    "Example usages"
   ]
  },
  {
   "cell_type": "code",
   "execution_count": 53,
   "metadata": {},
   "outputs": [
    {
     "data": {
      "text/plain": [
       "['she writes books for children',\n",
       " \"they're just kids\",\n",
       " \"`tiddler' is a British term for youngster\"]"
      ]
     },
     "execution_count": 53,
     "metadata": {},
     "output_type": "execute_result"
    }
   ],
   "source": [
    "kid_synsets[0].examples()"
   ]
  },
  {
   "cell_type": "markdown",
   "metadata": {},
   "source": [
    "### Semantic relationships"
   ]
  },
  {
   "cell_type": "markdown",
   "metadata": {},
   "source": [
    "Sub-types of kids (hyponyms)"
   ]
  },
  {
   "cell_type": "code",
   "execution_count": 57,
   "metadata": {},
   "outputs": [
    {
     "data": {
      "text/plain": [
       "[Synset('bairn.n.01'),\n",
       " Synset('buster.n.02'),\n",
       " Synset('changeling.n.02'),\n",
       " Synset('child_prodigy.n.01'),\n",
       " Synset('foster-child.n.01'),\n",
       " Synset('imp.n.02'),\n",
       " Synset('kiddy.n.01'),\n",
       " Synset('orphan.n.01'),\n",
       " Synset('peanut.n.03'),\n",
       " Synset('pickaninny.n.01'),\n",
       " Synset('poster_child.n.01'),\n",
       " Synset('preschooler.n.01'),\n",
       " Synset('silly.n.01'),\n",
       " Synset('sprog.n.02'),\n",
       " Synset('toddler.n.01'),\n",
       " Synset('urchin.n.01'),\n",
       " Synset('waif.n.01')]"
      ]
     },
     "execution_count": 57,
     "metadata": {},
     "output_type": "execute_result"
    }
   ],
   "source": [
    "kid_synsets[0].hyponyms()"
   ]
  },
  {
   "cell_type": "code",
   "execution_count": 58,
   "metadata": {},
   "outputs": [
    {
     "data": {
      "text/plain": [
       "['child',\n",
       " 'kid',\n",
       " 'youngster',\n",
       " 'minor',\n",
       " 'shaver',\n",
       " 'nipper',\n",
       " 'small_fry',\n",
       " 'tiddler',\n",
       " 'tike',\n",
       " 'tyke',\n",
       " 'fry',\n",
       " 'nestling']"
      ]
     },
     "execution_count": 58,
     "metadata": {},
     "output_type": "execute_result"
    }
   ],
   "source": [
    "[l.name() for l in kid_synsets[0].lemmas()]"
   ]
  },
  {
   "cell_type": "markdown",
   "metadata": {},
   "source": [
    "### Other languages"
   ]
  },
  {
   "cell_type": "code",
   "execution_count": 17,
   "metadata": {},
   "outputs": [
    {
     "data": {
      "text/plain": [
       "['als',\n",
       " 'arb',\n",
       " 'bul',\n",
       " 'cat',\n",
       " 'cmn',\n",
       " 'dan',\n",
       " 'ell',\n",
       " 'eng',\n",
       " 'eus',\n",
       " 'fas',\n",
       " 'fin',\n",
       " 'fra',\n",
       " 'glg',\n",
       " 'heb',\n",
       " 'hrv',\n",
       " 'ind',\n",
       " 'ita',\n",
       " 'jpn',\n",
       " 'nld',\n",
       " 'nno',\n",
       " 'nob',\n",
       " 'pol',\n",
       " 'por',\n",
       " 'qcn',\n",
       " 'slv',\n",
       " 'spa',\n",
       " 'swe',\n",
       " 'tha',\n",
       " 'zsm']"
      ]
     },
     "execution_count": 17,
     "metadata": {},
     "output_type": "execute_result"
    }
   ],
   "source": [
    "sorted(wn.langs())"
   ]
  },
  {
   "cell_type": "code",
   "execution_count": 61,
   "metadata": {},
   "outputs": [
    {
     "data": {
      "text/plain": [
       "[Lemma('child.n.01.alevín'),\n",
       " Lemma('child.n.01.chaval'),\n",
       " Lemma('child.n.01.chico'),\n",
       " Lemma('child.n.01.chiqüelo'),\n",
       " Lemma('child.n.01.chiquillo'),\n",
       " Lemma('child.n.01.cría'),\n",
       " Lemma('child.n.01.criatura'),\n",
       " Lemma('child.n.01.crío'),\n",
       " Lemma('child.n.01.jovenzuelo'),\n",
       " Lemma('child.n.01.menor_de_edad'),\n",
       " Lemma('child.n.01.mozalbete'),\n",
       " Lemma('child.n.01.muchachuelo'),\n",
       " Lemma('child.n.01.nene'),\n",
       " Lemma('child.n.01.niño'),\n",
       " Lemma('child.n.01.pececillo')]"
      ]
     },
     "execution_count": 61,
     "metadata": {},
     "output_type": "execute_result"
    }
   ],
   "source": [
    "kid_synsets[0].lemmas(lang='spa')"
   ]
  },
  {
   "cell_type": "code",
   "execution_count": null,
   "metadata": {},
   "outputs": [],
   "source": []
  }
 ],
 "metadata": {
  "kernelspec": {
   "display_name": "Python 3",
   "language": "python",
   "name": "python3"
  },
  "language_info": {
   "codemirror_mode": {
    "name": "ipython",
    "version": 3
   },
   "file_extension": ".py",
   "mimetype": "text/x-python",
   "name": "python",
   "nbconvert_exporter": "python",
   "pygments_lexer": "ipython3",
   "version": "3.5.2"
  },
  "toc": {
   "base_numbering": 1,
   "nav_menu": {},
   "number_sections": true,
   "sideBar": true,
   "skip_h1_title": false,
   "title_cell": "Table of Contents",
   "title_sidebar": "Contents",
   "toc_cell": false,
   "toc_position": {},
   "toc_section_display": true,
   "toc_window_display": false
  }
 },
 "nbformat": 4,
 "nbformat_minor": 2
}
